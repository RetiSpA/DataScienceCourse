{
 "cells": [
  {
   "cell_type": "markdown",
   "metadata": {},
   "source": [
    "# Reti Data Scientist Course!"
   ]
  },
  {
   "cell_type": "markdown",
   "metadata": {},
   "source": [
    "Benvenuti al corso sulla Scienza dei Dati!\n",
    "\n",
    "Questo sarà un corso introduttivo, tenuto da: Andrea Guzzo and Salvatore Albore.\n",
    "\n",
    "L'obiettivo del corso è di insegnare le basi e tutto quello che c'è da sapere per iniziare a lavorare nel magico mondo della Data Science!"
   ]
  },
  {
   "cell_type": "markdown",
   "metadata": {},
   "source": [
    "## What is Data Science?"
   ]
  },
  {
   "cell_type": "markdown",
   "metadata": {},
   "source": [
    "Scienza dei dati, noto anche come la scienza basata sui dati, è un campo interdisciplinare basato su metodi scientifici, processi e sistemi per estrarre la conoscenza o intuizioni da dati in varie forme, strutturate o non strutturate.\n",
    "\n",
    "Ci sono tantissime definizioni associate alla Data Science, come ad esempio:\n",
    "- Data science is a \"concept to unify statistics, data analysis and their related methods\" in order to \"understand and analyze actual phenomena\" with data. - Chikio Hayashi  \n",
    "\n",
    "E ovviamente quando si parla di Data Science non si può non menzionare il Machine Learning:\n",
    "- Machine learning is a “field of study that gives computers the ability to learn without being explicitly programmed” - Arthur Samuel\n",
    "\n",
    "Quindi possiamo sintetizzare il principale obiettivo del machine learning come:\n",
    "- to program computers to use example data or past experience to solve a given problem\n",
    "\n",
    "Usiamo quindi la Data Science e il Machine Learning per consentire ai computers di aiutarci a capire o fare previsioni sul mondo.\n",
    "\n",
    "Quando parliamo di Data Science però, parliamo anche di **Data Analysis**  \n",
    "**Data Analysis** --> È un processo mediante il quale viene analizzato grandi quantità di dati per determinare le conclusioni e per supportare il processo decisionale, quindi dobbiamo esaminare ciò che i dati sta cercando di dirci.\n",
    "\n",
    "<img src=\"data-analysis.png\">\n",
    "\n",
    "Ma praticamente?  \n",
    "- Understand how to work with data (extracting, cleaning, and arranging) from many different sources with different types (structured, unstructured data)  \n",
    "- Knowing how to identify qualities, value within datasets  \n",
    "- Knowing how to build predictive experiments or calculation models  \n",
    "- Knowing how to visualize and contextualize the results produced in order to produce reports or services to consume models  \n",
    "\n",
    "Questo è chiamato: **Data Driven Approach**\n",
    "\n",
    "<img src=\"data-driven.png\">\n",
    "\n",
    "<img src=\"data-driven-explained.png\">"
   ]
  },
  {
   "cell_type": "markdown",
   "metadata": {},
   "source": [
    "## What is AI?"
   ]
  },
  {
   "cell_type": "markdown",
   "metadata": {},
   "source": [
    "Non c'è una definizione giusta, corretta o completa per descrivere l'intelligenza Artificiale, spesso tutte le definizioni si evolvono e cambiano nel tempo all'evolvere della tecnologia.\n",
    "C'è una fortissima eredità dalla fantascienza, ma molte cose che la fantascienza ha spiegato trovano difficli o diverse applicazioni nel mondo reale.\n",
    "\n",
    "\n",
    "Si riportano alcune definizioni trovate in rete\n",
    "\n",
    "Merriam-Webster definisce l'intelligenza artificiale in questo modo\n",
    "\n",
    "    A branch of computer science dealing with the simulation of intelligent behavior in computers.\n",
    "    The capability of a machine to imitate intelligent human behavior.\n",
    "      \n",
    "The Encyclopedia Britannica dichiara, \n",
    "\n",
    "    “artificial intelligence (AI), the ability of a digital computer or computer-controlled robot to perform tasks commonly associated with intelligent beings.” \n",
    "    Intelligent beings are those that can adapt to changing circumstances.\n",
    "\n",
    "L'unione europea, attraverso il lavoro di una commissione specificatamente creata, ha definito le linee guida etiche europee per l'AI affidabile. \n",
    "https://ec.europa.eu/digital-single-market/en/news/ethics-guidelines-trustworthy-ai  \n",
    "https://ec.europa.eu/futurium/en/ai-alliance-consultation  \n",
    "\n",
    "La definizione che hanno coniato e che è quella ufficiale è la seguente:\n",
    "\n",
    "    “Artificial intelligence (AI) refers to systems that display intelligent behaviour by analysing their environment and taking actions – with some degree of autonomy – to achieve specific goals.\n",
    "    AI-based systems can be purely software-based, acting in the virtual world (e.g. voice assistants, image analysis software, search engines, speech and face recognition systems) or AI can be embedded in hardware devices (e.g. advanced robots, autonomous cars, drones or Internet of Things applications).”\n",
    "\n",
    "\n",
    "L'intelligenza artificiale ha anche un suo mantra: What seems easy is actually difficult...and what seems difficult is actually easy\n",
    "\n",
    "Per dare una definizione corretta, è spesso meglio ragionare per applicazioni concrete\n",
    "\n",
    "\n",
    "<img src=\"ai.png\">\n",
    "\n",
    "\n",
    "Ci sono due temi principali e le parole che sono estremamente importanti quando si parla di AI:\n",
    "\n",
    "**Autonomy**\n",
    "- That is the ability to perform tasks in complex environments without constant guidance from a user.\n",
    "\n",
    "**Activities**\n",
    "- That is the ability to improve performance by learning from experience.\n",
    "\n",
    "Inoltre c'è un ciclo di vita specifico per realizzare un progetto, un'applicazione nel campo dell'Intelligenza Artificiale che oramai viene universalmente riconosciuto e adottato (con differenti evoluzioni e diversificazioni a seconda dell'applicazione)\n",
    "\n",
    "<img src=\"ai-lifecycle.png\">\n"
   ]
  },
  {
   "cell_type": "markdown",
   "metadata": {},
   "source": [
    "## Let's kaggle!"
   ]
  },
  {
   "cell_type": "markdown",
   "metadata": {},
   "source": [
    "Kaggle è un AirBnB per gli scienziati di dati - è qui che passano le loro notti e nei fine settimana. \n",
    "E 'una piattaforma di crowsurcing per attirare, nutrire, allenare e sfidare i dati scienziati provenienti da tutto il mondo per risolvere la scienza dei dati, l'apprendimento delle macchine e problemi di analisi predittiva. \n",
    "Ha oltre 536.000 membri attivi da 194 paesi e riceve quasi 150.000 contributi al mese  \n",
    "https://www.kaggle.com/getting-started/44916"
   ]
  },
  {
   "cell_type": "markdown",
   "metadata": {},
   "source": [
    "È possibile utilizzare Kaggle per cercare set di dati, vedere altre applicazioni, competere in Data Science challenge e iniziare a creare un curriculum specifico."
   ]
  },
  {
   "cell_type": "code",
   "execution_count": 1,
   "metadata": {},
   "outputs": [
    {
     "data": {
      "text/html": [
       "\n",
       "        <iframe\n",
       "            width=\"400\"\n",
       "            height=\"300\"\n",
       "            src=\"https://www.youtube.com/embed/TNzDMOg_zsw\"\n",
       "            frameborder=\"0\"\n",
       "            allowfullscreen\n",
       "        ></iframe>\n",
       "        "
      ],
      "text/plain": [
       "<IPython.lib.display.YouTubeVideo at 0x19dac985a58>"
      ]
     },
     "execution_count": 1,
     "metadata": {},
     "output_type": "execute_result"
    }
   ],
   "source": [
    "from IPython.display import YouTubeVideo\n",
    "YouTubeVideo('TNzDMOg_zsw')"
   ]
  },
  {
   "cell_type": "markdown",
   "metadata": {},
   "source": [
    "In questo corso useremo kaggle per alcuni set di dati ed esempi che è possibile utilizzare per eseguire il progetto finale del corso e per allenarsi, sperimentare e imparare."
   ]
  },
  {
   "cell_type": "markdown",
   "metadata": {},
   "source": [
    "# Data Science Learning Path"
   ]
  },
  {
   "cell_type": "markdown",
   "metadata": {},
   "source": [
    "Il mondo della scienza dei dati è vasto e infinito, un oceano! \n",
    "E 'molto utile avere riferimenti, una guida per cercare di fare ordine e di non perdersi in questo mare infinito di articoli, lezioni, corsi, libri ... \n",
    "Questo è solo un primo corso introduttivo, poi ci sarà anche un corso avanzato, ma online è possibile trovare un sacco di risorse valide (pagati e / o liberi) da cui imparare molto e costruire il vostro curriculum e rotta! \n",
    "Così qui entriamo nel nostro percorso di apprendimento. Qualsiasi variazione, modifica e discussione è il benvenuto! Possiamo costruire insieme un percorso di apprendimento e in base al vostro feedback possiamo modello uno che è come funzionale e meglio possibile. \n"
   ]
  },
  {
   "cell_type": "markdown",
   "metadata": {},
   "source": [
    "Repository con tutti i migliori corsi disponibili on-line, con la loro descrizione e informazioni\n",
    "https://www.notion.so/The-Best-Artificial-Intelligence-Machine-Learning-and-Data-Science-Resources-b3b97fa097b747698e87fd3badc657cf"
   ]
  },
  {
   "cell_type": "markdown",
   "metadata": {},
   "source": [
    "<img src=\"roadmap.png\" style=\"background-color:white;\">"
   ]
  },
  {
   "cell_type": "markdown",
   "metadata": {},
   "source": [
    "<br>\n",
    "Non abbiate paura! Questo è un lungo cammino e ci sono così tante cose da imparare ... il segreto è quello di mantenere l'obiettivo in mente e prendere un passo alla volta, lentamente.\n",
    "<br>\n",
    "<br>"
   ]
  },
  {
   "cell_type": "markdown",
   "metadata": {},
   "source": [
    "<img src=\"roadmap_2.png\">"
   ]
  },
  {
   "cell_type": "markdown",
   "metadata": {},
   "source": [
    "<img src=\"path.png\">"
   ]
  },
  {
   "cell_type": "markdown",
   "metadata": {},
   "source": [
    "## Milestones"
   ]
  },
  {
   "cell_type": "markdown",
   "metadata": {},
   "source": [
    "Standard python\n",
    "- [ ] Array, Types, Variables, Strings: Basics\n",
    "- [ ] Functions\n",
    "- [ ] Working with files (csv, json, ...)\n",
    "- [ ] Dates and Times\n",
    "- [ ] Data Structures: list, dictionaries, ...\n",
    "- [ ] Lamba and List Comprehensions\n",
    "- [ ] Objects and OOP\n",
    "- Software developing\n",
    "- Web developing\n",
    "- Web scraping and crawling\n",
    "- ORM (Object Relational Models)\n",
    "\n",
    "Linear Algebra and Mathematics\n",
    "\n",
    "https://github.com/mjbahmani/10-steps-to-become-a-data-scientist/blob/master/3-%20Mathematics%20and%20Linear%20Algebra/Linear%20Algebra%20for%20Data%20Scientists.ipynb\n",
    "\n",
    "- Linear Algebra\n",
    "https://www.khanacademy.org/math/linear-algebra\n",
    "\n",
    "- Calculus\n",
    "https://www.khanacademy.org/math/multivariable-calculus\n",
    "\n",
    "- Matrices\n",
    "https://www.khanacademy.org/math/precalculus-2018/precalc-matrices\n",
    "\n",
    "- Statistics and Probabilities\n",
    "https://www.khanacademy.org/math/statistics-probability\n",
    "\n",
    "- Coursera math for data science complete course (payment)\n",
    "https://www.coursera.org/specializations/mathematics-machine-learning?ranMID=40328&ranEAID=EBOQAYvGY4A&ranSiteID=EBOQAYvGY4A-A2ykkSIPhw_lMkynNexgjQ&siteID=EBOQAYvGY4A-A2ykkSIPhw_lMkynNexgjQ&utm_content=2&utm_medium=partners&utm_source=linkshare&utm_campaign=EBOQAYvGY4A\n",
    "\n",
    "Python libraries and tools  \n",
    "<img src=\"python_libraries.png\" style=\"background-color:white;\">\n",
    "- [ ] Numpy\n",
    "    - Creating, combining and iterating over arrays\n",
    "    - Operations\n",
    "    - Math Functions\n",
    "    - Indexing / Slicing\n",
    "    - Copying data\n",
    "    - Series data structure (querying)\n",
    "- [ ] Pandas \n",
    "    - Data frame (creating, indexing, structure, loading, merging)\n",
    "    - Missing values\n",
    "    - Pandorable Code\n",
    "    - Group by\n",
    "    - Pivot\n",
    "    - Date functionalities\n",
    "    - Distributions in pandas\n",
    "    - Hypothesis testing\n",
    "    - Plot (Matplotlib)\n",
    "        - Scatterpolots\n",
    "        - Lineplots\n",
    "        - Bar charts\n",
    "        - Histograms\n",
    "        - Box plots\n",
    "        - Heatmaps\n",
    "        - Animations\n",
    "        - Intactivity\n",
    " - [ ] Seaborn\n",
    "     - Seaborn vs Matplotlib\n",
    "     - Useful Python data visualization libraries\n",
    " - [ ] Sklearn\n",
    "     - Introduction\n",
    "     - Algorithms\n",
    "     - Framework\n",
    "     - Applications\n",
    "     - Data (cross val, split, ..)\n",
    "     - Supervised Learning\n",
    "         - Classification\n",
    "         - Regression\n",
    "         - linear, binary classification\n",
    "         - prediction\n",
    "         - three-class problems\n",
    "         - evaluation\n",
    "         - ....\n",
    "    - Unsupervised Learning\n",
    "        - Clustering\n",
    "        - Evaluations\n",
    "\n",
    "- [ ] Data Science workflow and questions (Introduction)  \n",
    "https://www.kaggle.com/mjbahmani/a-data-science-framework-for-quora  \n",
    "https://docs.microsoft.com/en-us/azure/machine-learning/team-data-science-process/overview  \n",
    "\n",
    "\n",
    "\n"
   ]
  },
  {
   "cell_type": "markdown",
   "metadata": {},
   "source": [
    "Usefull tips - technical notes"
   ]
  },
  {
   "cell_type": "markdown",
   "metadata": {},
   "source": [
    "https://chrisalbon.com/"
   ]
  },
  {
   "cell_type": "markdown",
   "metadata": {},
   "source": [
    "Data Scientist's Toolbox"
   ]
  },
  {
   "cell_type": "markdown",
   "metadata": {},
   "source": [
    "https://www.kaggle.com/mjbahmani/the-data-scientist-s-toolbox-tutorial-1"
   ]
  },
  {
   "cell_type": "markdown",
   "metadata": {},
   "source": [
    "#### Project Ideas"
   ]
  },
  {
   "cell_type": "markdown",
   "metadata": {},
   "source": [
    "https://github.com/NirantK/awesome-project-ideas"
   ]
  },
  {
   "cell_type": "markdown",
   "metadata": {},
   "source": [
    "#### Fastai Free Machine Learning and Deep Learning Course"
   ]
  },
  {
   "cell_type": "markdown",
   "metadata": {},
   "source": [
    "https://www.fast.ai/"
   ]
  },
  {
   "cell_type": "markdown",
   "metadata": {},
   "source": [
    "But above all: try, try and try...  \n",
    "Find use cases, make projects, question and find use cases to solve and work on... and as you search for answers to your questions!"
   ]
  },
  {
   "cell_type": "markdown",
   "metadata": {},
   "source": [
    "#### Free AI Beginner Course"
   ]
  },
  {
   "cell_type": "markdown",
   "metadata": {},
   "source": [
    "https://course.elementsofai.com/"
   ]
  },
  {
   "cell_type": "markdown",
   "metadata": {},
   "source": [
    "#### Useful Books"
   ]
  },
  {
   "cell_type": "markdown",
   "metadata": {},
   "source": [
    "Python Data Science Handbook (livebook free) to understand and practise python libraries for Data Science (pandas, numpy, sklearn, ...)  \n",
    "https://jakevdp.github.io/PythonDataScienceHandbook/  \n",
    "<br>\n",
    "Machine Learning pratical book (To read and follow before the previous one)  \n",
    "https://icenamor.github.io/files/books/Hands-on-Machine-Learning-with-Scikit-2E.pdf  \n"
   ]
  },
  {
   "cell_type": "markdown",
   "metadata": {},
   "source": [
    "#### Best Courses for us"
   ]
  },
  {
   "cell_type": "markdown",
   "metadata": {},
   "source": [
    "- Introduction Courses  \n",
    "https://www.edx.org/course/introduction-to-data-science-5  \n",
    "https://www.edx.org/course/introduction-to-artificial-intelligence-ai-3  \n",
    "\n",
    "- Machine Learning Theory Course  \n",
    "https://www.coursera.org/learn/machine-learning  \n",
    "\n",
    "- Deep Learning courses  \n",
    "https://www.deeplearning.ai/  \n"
   ]
  },
  {
   "cell_type": "markdown",
   "metadata": {},
   "source": [
    "#### Daily Learning Techniques\n",
    "For sure are common things...but it's good to refresh them :-)"
   ]
  },
  {
   "cell_type": "markdown",
   "metadata": {},
   "source": [
    "1. Sleep Well. \n",
    "2. Exercise 3-5x a week\n",
    "3. Cold Showers to increase alertness\n",
    "4. Meditate 30 minutes/day for mind control\n",
    "5. No Processed Foods or drugs.\n",
    "6. No Social Media in the morning.\n",
    "7. Learning Goal Planning (Seeds and Weeds) \n",
    "8. Curated Social Lists \n",
    "9. Constantly Teach what you’ve learned. ELI5 style.\n",
    "10. Take frequent breaks. \n",
    "\n",
    "- Learn how to learn course (we spend all life to learn, but nobody teach us how to learn :-) )  \n",
    "https://www.coursera.org/learn/learning-how-to-learn?utm_term=danielbourke_learning-how-to-learn_jan2019&ranMID=40328&ranEAID=EBOQAYvGY4A&ranSiteID=EBOQAYvGY4A-7uOXiO4VCvcZd1kuDd6x4A&siteID=EBOQAYvGY4A-7uOXiO4VCvcZd1kuDd6x4A&utm_content=10&utm_medium=partners&utm_source=linkshare&utm_campaign=EBOQAYvGY4A"
   ]
  },
  {
   "cell_type": "markdown",
   "metadata": {},
   "source": [
    "#### Compendium about AI\n",
    "\n",
    "Community complete guide about: Courses, Researchers, Papers, Datasets, Tutorials, Conferences and a lot more\n",
    "\n",
    "https://hackmd.io/@chanderA/aiguide"
   ]
  },
  {
   "cell_type": "markdown",
   "metadata": {},
   "source": [
    "#### Deep Learning Theory (Stanford)\n",
    "http://ufldl.stanford.edu/tutorial/"
   ]
  },
  {
   "cell_type": "markdown",
   "metadata": {},
   "source": [
    "#### Reinforcement Learning (OpenAI)\n",
    "https://spinningup.openai.com/en/latest/"
   ]
  },
  {
   "cell_type": "markdown",
   "metadata": {},
   "source": [
    "# Cheatsheet"
   ]
  },
  {
   "cell_type": "markdown",
   "metadata": {},
   "source": [
    "A cheat sheet or crib sheet is a concise set of notes used for quick reference.  \n",
    "Cheat sheets are so named because they may be used by students without the instructor's knowledge to cheat on a test.  \n",
    "In Data Science and Programming in general are useful to remember key and important things without loosing a lot of time to search the information again.  "
   ]
  },
  {
   "cell_type": "markdown",
   "metadata": {},
   "source": [
    "Pandas Cheatsheet  \n",
    "https://pandas.pydata.org/Pandas_Cheat_Sheet.pdf"
   ]
  },
  {
   "cell_type": "markdown",
   "metadata": {},
   "source": [
    "Numpy Cheatsheet  \n",
    "https://s3.amazonaws.com/assets.datacamp.com/blog_assets/Numpy_Python_Cheat_Sheet.pdf"
   ]
  },
  {
   "cell_type": "markdown",
   "metadata": {},
   "source": [
    "Python Cheatsheet  \n",
    "https://perso.limsi.fr/pointal/_media/python:cours:mementopython3-english.pdf  \n",
    "https://www.pythonsheets.com  \n",
    "https://www.pythoncheatsheet.org/  "
   ]
  },
  {
   "cell_type": "markdown",
   "metadata": {},
   "source": [
    "Matplotlib Cheatsheet  \n",
    "https://s3.amazonaws.com/assets.datacamp.com/blog_assets/Python_Matplotlib_Cheat_Sheet.pdf"
   ]
  },
  {
   "cell_type": "markdown",
   "metadata": {},
   "source": [
    "Seaborn Cheatsheet  \n",
    "https://s3.amazonaws.com/assets.datacamp.com/blog_assets/Python_Seaborn_Cheat_Sheet.pdf\n"
   ]
  },
  {
   "cell_type": "markdown",
   "metadata": {},
   "source": [
    "Complete Machine Learning and Deep Learning Theory Cheatsheet  \n",
    "https://stanford.edu/~shervine/teaching/cs-229/cheatsheet-supervised-learning"
   ]
  },
  {
   "cell_type": "markdown",
   "metadata": {},
   "source": [
    "Sklearn Cheatsheet  \n",
    "https://s3.amazonaws.com/assets.datacamp.com/blog_assets/Scikit_Learn_Cheat_Sheet_Python.pdf\n"
   ]
  },
  {
   "cell_type": "markdown",
   "metadata": {},
   "source": [
    "# History"
   ]
  },
  {
   "cell_type": "markdown",
   "metadata": {},
   "source": [
    "- Artificial Intelligence History  \n",
    "https://towardsdatascience.com/history-of-ai-484a86fc16ef  \n",
    "http://sitn.hms.harvard.edu/flash/2017/history-artificial-intelligence/  \n",
    "https://learn.g2.com/history-of-artificial-intelligence  \n",
    "https://www.javatpoint.com/history-of-artificial-intelligence  \n",
    "\n",
    "- Machine Learning History  \n",
    "https://www.doc.ic.ac.uk/~jce317/history-machine-learning.html  \n",
    "https://www.bbc.com/timelines/zypd97h  \n",
    "https://cloud.withgoogle.com/build/data-analytics/explore-history-machine-learning/  "
   ]
  }
 ],
 "metadata": {
  "kernelspec": {
   "display_name": "Python 3",
   "language": "python",
   "name": "python3"
  },
  "language_info": {
   "codemirror_mode": {
    "name": "ipython",
    "version": 3
   },
   "file_extension": ".py",
   "mimetype": "text/x-python",
   "name": "python",
   "nbconvert_exporter": "python",
   "pygments_lexer": "ipython3",
   "version": "3.6.8"
  },
  "varInspector": {
   "cols": {
    "lenName": 16,
    "lenType": 16,
    "lenVar": 40
   },
   "kernels_config": {
    "python": {
     "delete_cmd_postfix": "",
     "delete_cmd_prefix": "del ",
     "library": "var_list.py",
     "varRefreshCmd": "print(var_dic_list())"
    },
    "r": {
     "delete_cmd_postfix": ") ",
     "delete_cmd_prefix": "rm(",
     "library": "var_list.r",
     "varRefreshCmd": "cat(var_dic_list()) "
    }
   },
   "types_to_exclude": [
    "module",
    "function",
    "builtin_function_or_method",
    "instance",
    "_Feature"
   ],
   "window_display": false
  }
 },
 "nbformat": 4,
 "nbformat_minor": 4
}

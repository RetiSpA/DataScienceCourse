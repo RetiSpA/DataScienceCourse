{
 "cells": [
  {
   "cell_type": "code",
   "execution_count": 2,
   "metadata": {},
   "outputs": [],
   "source": [
    "x = \"Hello World\"\n",
    "print(x)\n",
    "print(\"ciao come stai?\")"
   ]
  },
  {
   "cell_type": "code",
   "execution_count": 3,
   "metadata": {},
   "outputs": [
    {
     "name": "stdout",
     "output_type": "stream",
     "text": [
      "Hello World\n"
     ]
    }
   ],
   "source": [
    "print(x)"
   ]
  },
  {
   "cell_type": "markdown",
   "metadata": {},
   "source": [
    "# Ciao"
   ]
  },
  {
   "cell_type": "code",
   "execution_count": 4,
   "metadata": {},
   "outputs": [
    {
     "name": "stdout",
     "output_type": "stream",
     "text": [
      " Volume in drive C is Windows\n",
      " Volume Serial Number is E6D7-77F1\n",
      "\n",
      " Directory of C:\\Users\\guzzoan1\\Dropbox (Personal)\\Corsi\\RETI\\Corso Data Scientist\\DataScienceCourse\\00_Introduction to Python\n",
      "\n",
      "27/09/2019  11:51    <DIR>          .\n",
      "27/09/2019  11:51    <DIR>          ..\n",
      "27/09/2019  11:44    <DIR>          .ipynb_checkpoints\n",
      "27/09/2019  09:12            21.687 1-DataScience-ita.ipynb\n",
      "26/09/2019  17:36            54.794 1-DataScience.ipynb\n",
      "27/09/2019  11:50            22.582 2-Environments_Setup.ipynb\n",
      "23/09/2019  13:53            71.577 3-Introduction_To_Python.ipynb\n",
      "03/09/2019  15:50               555 4-Jupyter_with_R.ipynb\n",
      "04/09/2019  12:37            62.342 ai-lifecycle.png\n",
      "04/09/2019  12:36            77.385 ai.png\n",
      "03/09/2019  16:18            67.599 anaconda_environments.png\n",
      "03/09/2019  16:13            91.381 anaconda_navigator.png\n",
      "01/12/2018  17:08            31.139 blackslash_caracter.JPG\n",
      "01/12/2018  17:08            14.718 comparison_operations.JPG\n",
      "03/09/2019  16:35            51.814 conda-terminal.png\n",
      "04/09/2019  12:17            39.928 data-analysis.png\n",
      "04/09/2019  12:20            96.316 data-driven-explained.png\n",
      "04/09/2019  12:19            65.210 data-driven.png\n",
      "23/09/2019  14:07            24.474 OOP Programming.ipynb\n",
      "01/12/2018  17:08            89.468 operators in Python.jpg\n",
      "03/09/2019  15:14           852.446 path.png\n",
      "27/09/2019  11:51             1.142 Prova.ipynb\n",
      "03/09/2019  14:29            24.145 python_libraries.png\n",
      "03/09/2019  12:17           245.052 roadmap.png\n",
      "03/09/2019  15:10           548.249 roadmap_2.png\n",
      "22/09/2019  15:17           431.663 voltron.png\n",
      "              23 File(s)      2.985.666 bytes\n",
      "               3 Dir(s)  60.785.999.872 bytes free\n"
     ]
    }
   ],
   "source": [
    "!dir"
   ]
  },
  {
   "cell_type": "code",
   "execution_count": null,
   "metadata": {},
   "outputs": [],
   "source": []
  }
 ],
 "metadata": {
  "kernelspec": {
   "display_name": "Python 3",
   "language": "python",
   "name": "python3"
  },
  "language_info": {
   "codemirror_mode": {
    "name": "ipython",
    "version": 3
   },
   "file_extension": ".py",
   "mimetype": "text/x-python",
   "name": "python",
   "nbconvert_exporter": "python",
   "pygments_lexer": "ipython3",
   "version": "3.6.8"
  }
 },
 "nbformat": 4,
 "nbformat_minor": 2
}

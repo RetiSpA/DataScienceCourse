{
 "cells": [
  {
   "cell_type": "markdown",
   "metadata": {},
   "source": [
    "# Environment and tools setup"
   ]
  },
  {
   "cell_type": "markdown",
   "metadata": {},
   "source": [
    "This short lesson will teach you the basics of the work environments needed for this course."
   ]
  },
  {
   "cell_type": "markdown",
   "metadata": {},
   "source": [
    "# Installing Python"
   ]
  },
  {
   "cell_type": "markdown",
   "metadata": {},
   "source": [
    "What is python?  \n",
    "https://docs.python.org/3/tutorial/index.html\n",
    "\n",
    "Python is an easy to learn, powerful programming language. It has efficient high-level data structures and a simple but effective approach to object-oriented programming. Python’s elegant syntax and dynamic typing, together with its interpreted nature, make it an ideal language for scripting and rapid application development in many areas on most platforms.\n",
    "\n",
    "The Python interpreter and the extensive standard library are freely available in source or binary form for all major platforms from the Python Web site, https://www.python.org/, and may be freely distributed. The same site also contains distributions of and pointers to many free third party Python modules, programs and tools, and additional documentation.\n",
    "\n",
    "The Python interpreter is easily extended with new functions and data types implemented in C or C++ (or other languages callable from C). Python is also suitable as an extension language for customizable applications."
   ]
  },
  {
   "cell_type": "markdown",
   "metadata": {},
   "source": [
    "What can you do with Python? Just about anything, and most things quite easily. Topics like data analysis, machine learning, web development, desktop applications, robotics, and more are all things that you can immediately begin doing with Python without much effort. Personally, I've used Python to train some AI, to help companies detect diseases, to help detect fraud and abuse against servers, to create games, to trade stocks, and I've built and helped to build multiple businesses with Python.  \n",
    "Python and programming is life-changing, and it's my honor to share it with you!  \n",
    "https://pythonprogramming.net/introduction-learn-python-3-tutorials/  "
   ]
  },
  {
   "cell_type": "markdown",
   "metadata": {},
   "source": [
    "If you want to install python on your machine, you can download from here: https://www.python.org/downloads/  \n",
    "The python version used in this course is the python 3.6 because it's more versatile for all Data Science libraries used in this course.\n",
    "\n",
    "In some machines (mac, linux) will be installed by default version 2.7 of python, we ask you not to use version 2.x for incompatibility issues.  \n",
    "\n",
    "Install the basic version from the website if you want to start playing with python!"
   ]
  },
  {
   "cell_type": "markdown",
   "metadata": {},
   "source": [
    "## Anaconda"
   ]
  },
  {
   "cell_type": "markdown",
   "metadata": {},
   "source": [
    "- What is anaconda\n",
    "- Install\n",
    "- GUI vs Command Line"
   ]
  },
  {
   "cell_type": "markdown",
   "metadata": {},
   "source": [
    "Anaconda is a an open source distribution of the Python and R programming languages and it is used in data science, machine learning, deep learning-related applications aiming at simplifying package management and deployment.\n",
    "\n",
    "Anaconda Distribution is used by over 7 million users, and it includes more than 300 data science packages suitable for Windows, Linux, and MacOS."
   ]
  },
  {
   "cell_type": "markdown",
   "metadata": {},
   "source": [
    "It contains all the packages that you need to start developing with Python and it's the distribution that we recommend because it's very easy to learn and to use."
   ]
  },
  {
   "cell_type": "markdown",
   "metadata": {},
   "source": [
    "If you want to install Anaconda download the 3.X version from here: https://www.anaconda.com/distribution/"
   ]
  },
  {
   "cell_type": "markdown",
   "metadata": {},
   "source": [
    "Anaconda has two type of interaction:\n",
    "- Graphical approach\n",
    "- Terminal based approach"
   ]
  },
  {
   "cell_type": "markdown",
   "metadata": {},
   "source": [
    "The graphical approach is with the Anaconda Navigator a GUI that can you help to use the tools\n",
    "\n",
    "<img src=\"anaconda_navigator.png\">\n",
    "\n",
    "In the immage above you can see some different parts:\n",
    "- The blue part: is where you can manage some different python-conda environments (we talk about this in the next cpt.)\n",
    "- The red part: is where you can change the installed environments and related apps\n",
    "- The yellow part: are the apps installed in a specific environment that you can use\n",
    "\n",
    "If you open the blue part (enviroments) you can find all the environments, all the packages and you can create new environments, packages and libraries or uninstall and manage the others already in  \n",
    "\n",
    "<img src=\"anaconda_environments.png\">\n"
   ]
  },
  {
   "cell_type": "markdown",
   "metadata": {},
   "source": [
    "The best way to use anaconda is with the terminal, after the installation open CMD (or your terminal app) and you can interactive with Anaconda using the command: conda\n",
    "\n",
    "<img src=\"conda-terminal.png\">\n",
    "\n",
    "Here some useful command:\n",
    "\n",
    "- Conda installation info\n",
    "\n",
    "- To see your environments\n",
    "\n",
    "- List of packages in your environments\n",
    "\n",
    "- Update anaconda\n",
    "\n"
   ]
  },
  {
   "cell_type": "markdown",
   "metadata": {},
   "source": [
    "### Virtual Environments"
   ]
  },
  {
   "cell_type": "markdown",
   "metadata": {},
   "source": [
    "- What is an virtual environment\n",
    "- Create a new virtual environment\n",
    "- Install python packages into libreries and packages (conda vs pip)\n",
    "- Change environment and use different environments"
   ]
  },
  {
   "cell_type": "markdown",
   "metadata": {},
   "source": [
    "The main purpose of Python virtual environments (also called venv) is to create an isolated environment for Python projects.  \n",
    "This means that each project can have its own dependencies, regardless of what dependencies every other project has.  \n",
    "\n",
    "In our little example above, we’d just need to create a separate virtual environment for both ProjectA and ProjectB, and we’d be good to go.  \n",
    "Each environment, in turn, would be able to depend on whatever version of ProjectC they choose, independent of the other.\n",
    "\n",
    "The great thing about this is that there are no limits to the number of environments you can have since they’re just directories containing a few scripts.  \n",
    "Plus, they’re easily created using the virtualenv or pyenv command line tools."
   ]
  },
  {
   "cell_type": "markdown",
   "metadata": {},
   "source": [
    "It's possibile to create a virtual environment with default python, but we use environments with Anaconda.  \n",
    "For standard python info about the virtual environments, see this link below:  \n",
    "https://realpython.com/python-virtual-environments-a-primer/"
   ]
  },
  {
   "cell_type": "markdown",
   "metadata": {},
   "source": [
    "Here some useful command to use with Anaconda to create, check, validate and update a Conda Venv"
   ]
  },
  {
   "cell_type": "markdown",
   "metadata": {},
   "source": [
    "WARNING: if you are on windows, use CMD (as an admin if possibile) and try to avoid Powershell until you are confident with this technology"
   ]
  },
  {
   "cell_type": "markdown",
   "metadata": {},
   "source": [
    "__To visualize Conda information about your installation__\n",
    "```bash\n",
    "conda -v\n",
    "```"
   ]
  },
  {
   "cell_type": "markdown",
   "metadata": {},
   "source": [
    "__Check conda is up to date__\n",
    "```bash\n",
    "conda update conda\n",
    "```"
   ]
  },
  {
   "cell_type": "markdown",
   "metadata": {},
   "source": [
    "__Create a new virtual environment (venv) with a specific python version__  \n",
    "Remember to replace x.x with your python version (we use principally the 3.6 version) and \"yourenvname\" with your environment name\n",
    "```bash\n",
    "conda create -n yourenvname python=x.x anaconda\n",
    "```\n",
    "\n",
    "If you want to create an empty environment without the default conda libraries you can do:\n",
    "```bash\n",
    "conda create -n yourenvname python=x.x\n",
    "```\n",
    "without the anaconda label\n"
   ]
  },
  {
   "cell_type": "markdown",
   "metadata": {},
   "source": [
    "__Now you have to activate your conda environment__\n",
    "```bash\n",
    "conda activate yourenvname\n",
    "```"
   ]
  },
  {
   "cell_type": "markdown",
   "metadata": {},
   "source": [
    "__To install a new package in your new environment you can...__\n",
    "```bash\n",
    "conda install -n yourenvname [package]\n",
    "```\n",
    "\n",
    "but if you are already in your conda environment you can do simply:\n",
    "```bash\n",
    "conda install [package]\n",
    "```\n",
    "\n",
    "*always without the [ ] parenthesis"
   ]
  },
  {
   "cell_type": "markdown",
   "metadata": {},
   "source": [
    "__To exit from your virtual environment__\n",
    "```bash\n",
    "conda deactivate\n",
    "```"
   ]
  },
  {
   "cell_type": "markdown",
   "metadata": {},
   "source": [
    "__If you want to delete your anaconda virtual environment__\n",
    "```bash\n",
    "conda remove -n yourenvname -all\n",
    "```"
   ]
  },
  {
   "cell_type": "markdown",
   "metadata": {},
   "source": [
    "__If you want to see your installed anaconda virtual environments__\n",
    "```bash\n",
    "conda env list\n",
    "```"
   ]
  },
  {
   "cell_type": "markdown",
   "metadata": {},
   "source": [
    "__If you want remove your conda environment__\n",
    "```bash\n",
    "conda remove --name yourenvname --all\n",
    "```"
   ]
  },
  {
   "cell_type": "markdown",
   "metadata": {},
   "source": [
    "__If you want to have some info about your conda venv or if an environment is deleted launch:__\n",
    "```bash\n",
    "conda info --envs\n",
    "```"
   ]
  },
  {
   "cell_type": "markdown",
   "metadata": {},
   "source": [
    "There are 2 types of scenario that you can use to install new python packages or libraries in Conda:\n",
    "- Using pip\n",
    "- Using conda\n",
    "\n",
    "both are two library managers, the first one is the default python manager and the second is the anaconda default manager.  \n",
    "The available libraries that have both can be the same or different, so we suggest to use both manager but prioritising the use of Conda.  \n",
    "\n",
    "WARNING: If you are using pip, you must have your environment activated and be inside it."
   ]
  },
  {
   "cell_type": "markdown",
   "metadata": {},
   "source": [
    "If you want some other informations see this article (expecially if you want to use a custom requirements.yml file for your python libraries)  \n",
    "https://towardsdatascience.com/getting-started-with-python-environments-using-conda-32e9f2779307"
   ]
  },
  {
   "cell_type": "markdown",
   "metadata": {},
   "source": [
    "## Jupyter"
   ]
  },
  {
   "cell_type": "markdown",
   "metadata": {},
   "source": [
    "The Jupyter Notebook is an open-source web application that allows you to create and share documents that contain live code, equations, visualizations and narrative text.\n",
    "Uses include: data cleaning and transformation, numerical simulation, statistical modeling, data visualization, machine learning, and much more.\n",
    "\n",
    "Is the default tool for this lab and it's one of the common tools for Data Science used worldwide."
   ]
  },
  {
   "cell_type": "markdown",
   "metadata": {},
   "source": [
    "Jupyter is installed by default inside the base conda environment, but if you want to use inside your new conda virtual environment you have to install on it.\n",
    "\n",
    "To install jupyter inside conda you have to:\n",
    "1. activate your conda venv\n",
    "2. launch `conda install jupyter`\n",
    "3. run jupyter typing `jupyter notebook`\n",
    "\n",
    "Everytime you want to launch Jupyter notebook with your custom conda virtual environment you have to:\n",
    "1. activate your conda env\n",
    "2. run: `jupyter notebook` inside the terminal\n",
    "\n",
    "then a new browser window will appear and you can use Jupyter from there with your venv."
   ]
  },
  {
   "cell_type": "markdown",
   "metadata": {},
   "source": [
    "If you want to close jupyter\n",
    "1. save your work\n",
    "2. close the browser tabs\n",
    "3. press: CRTL + C inside the console windows to kill all the kernels and jupyter server"
   ]
  },
  {
   "cell_type": "markdown",
   "metadata": {},
   "source": [
    "#### Set Jupyter default project folder"
   ]
  },
  {
   "cell_type": "markdown",
   "metadata": {},
   "source": [
    "You can set the default Jupyter home main folder with this simple guide\n",
    "\n",
    "Use the jupyter notebook config file:  \n",
    "After you have installed Anaconda..\n",
    "1. Open cmd (or Anaconda Prompt) and run jupyter notebook --generate-config.  \n",
    "2. This writes a file to C:\\Users\\username\\.jupyter\\jupyter_notebook_config.py.  \n",
    "3. Browse to the file location and open it in an Editor  \n",
    "4. Search for the following line in the file: #c.NotebookApp.notebook_dir = ''  \n",
    "5. Replace by c.NotebookApp.notebook_dir = '/the/path/to/home/folder/'  \n",
    "6. Make sure you use forward slashes in your path and use /home/user/ instead of ~/ for your home directory, backslashes could be used if placed in double quotes even if folder name contains spaces as such :  \"D:\\yourUserName\\Any Folder\\More Folders\\\"  \n",
    "7. Remove the # at the beginning of the line to allow the line to execute  "
   ]
  },
  {
   "cell_type": "markdown",
   "metadata": {},
   "source": [
    "If you want to extend and upgrade Jupyter with new features, you can follow this guide:  \n",
    "https://ndres.me/post/best-jupyter-notebook-extensions/"
   ]
  },
  {
   "cell_type": "markdown",
   "metadata": {},
   "source": [
    "### Jupyter Lab"
   ]
  },
  {
   "cell_type": "markdown",
   "metadata": {},
   "source": [
    "JupyterLab is a web-based interactive development environment for Jupyter notebooks, code, and data.  \n",
    "JupyterLab is flexible: configure and arrange the user interface to support a wide range of workflows in data science, scientific computing, and machine learning.  \n",
    "JupyterLab is extensible and modular: write plugins that add new components and integrate with existing ones."
   ]
  },
  {
   "cell_type": "markdown",
   "metadata": {},
   "source": [
    "Compared to jupyter notebooks, jupyter lab is a single web page with much more functionalities and extended interface, it's almost an IDE more complex."
   ]
  },
  {
   "cell_type": "markdown",
   "metadata": {},
   "source": [
    "To install jupyter lab inside conda you have to:\n",
    "1. activate your conda venv\n",
    "2. launch `conda install jupyterlab`\n",
    "3. run jupyter typing `jupyter lab`\n",
    "\n",
    "Everytime you want to launch Jupyter notebook with your custom conda virtual environment you have to:\n",
    "1. activate your conda env\n",
    "2. run: `jupyter lab` inside the terminal"
   ]
  },
  {
   "cell_type": "markdown",
   "metadata": {},
   "source": [
    "#### Problemi noti"
   ]
  },
  {
   "cell_type": "markdown",
   "metadata": {},
   "source": [
    "Utilizzando jupyter su un environment creato a mano è possibile che non vi trovi i pacchetti installati, questo perchè si sta utilizzando jupyter installato nell'environment di default oppure in un altro ambiente, ma non nell'ambiente di riferimento della libreria installata.  \n",
    "Quando questo si verifica ricordate di installare jupyter all'interno del vostro nuovo ambiente (environment) di lavoro."
   ]
  },
  {
   "cell_type": "markdown",
   "metadata": {},
   "source": [
    "## Visual Studio Code"
   ]
  },
  {
   "cell_type": "markdown",
   "metadata": {},
   "source": [
    "https://code.visualstudio.com/\n",
    "\n",
    "Visual Studio Code is a source-code editor developed by Microsoft for Windows, Linux and macOS. It includes support for debugging, embedded Git control and GitHub, syntax highlighting, intelligent code completion, snippets, and code refactoring.  \n",
    "\n",
    "It's a useful IDE to develop powerful and complex applications with python and it's suggested when you want to create, design, engineer and build large application or production code.  \n",
    "\n",
    "Visual Studio Code is compatible with Python and you can follow this guide to use with:  \n",
    "https://code.visualstudio.com/docs/python/python-tutorial"
   ]
  },
  {
   "cell_type": "markdown",
   "metadata": {},
   "source": [
    "With visual studio code you can also use code cells like jupyter notebook.  \n",
    "They are not the same, but the use it's quite similar thanks to IPython that is the base package on which Jupyter was built.  \n",
    "To use notebooks follow this guide:  \n",
    "https://code.visualstudio.com/docs/python/jupyter-support"
   ]
  },
  {
   "cell_type": "markdown",
   "metadata": {},
   "source": [
    "Here a list of useful extension for visual studio code that we use:\n",
    "- Anaconda extension pack\n",
    "- Code Runner\n",
    "- Git History\n",
    "- Git Lens\n",
    "- Live share\n",
    "- Powershell\n",
    "- Python\n",
    "- Project manager\n",
    "- Shell launcher\n",
    "- vscode-icons"
   ]
  },
  {
   "cell_type": "markdown",
   "metadata": {},
   "source": [
    "# Git"
   ]
  },
  {
   "cell_type": "markdown",
   "metadata": {},
   "source": [
    "- What's Git?\n",
    "- Why Git?\n",
    "- How to use it\n",
    "- Suggested course for GIT\n",
    "- Using Github"
   ]
  },
  {
   "cell_type": "markdown",
   "metadata": {},
   "source": [
    "Git is a distributed version control software\n",
    "Created by Linus Torvalds in 2005 to manage Linux code\n",
    "Can be used from the command line\n",
    "Also available on Windows\n",
    "It may have a more important \"central\" repository than the others\n",
    "\n",
    "It's the basic foundamental tool to cooperate in a team, sharing code and \"programming thing\" with each others.  \n",
    "\n",
    "The purpose of Git is to manage a project, or a set of files, as they change over time.  \n",
    "Git stores this information in a data structure called a repository. A git repository contains, among other things, the following: A set of commit objects.\n",
    "\n",
    "There are also companies that extends and use git for many purpose, two examples are: Github and GitLab.\n",
    "\n",
    "GitHub is a Git repository hosting service, but it adds many of its own features. While Git is a command line tool, GitHub provides a Web-based graphical interface.  \n",
    "It also provides access control and several collaboration features, such as a wikis and basic task management tools for every project.\n",
    "\n",
    "Version Control repository management services like Github and GitLab are a key component in the software development workflow. In the last few years, GitHub and GitLab positioned themselves as handy assistants for developers, particularly when working in large teams.  \n",
    "\n",
    "Both, GitLab and GitHub are web-based Git repositories.\n",
    "\n",
    "The aim of Git is to manage software development projects and its files, as they are changing over time. Git stores this information in a data structure called a repository.\n",
    "\n",
    "Such a git repository contains a set of commit objects and a set of references to commit objects.\n",
    "\n",
    "A git repository is a central place where developers store, share, test and collaborate on web projects.\n",
    "\n",
    "There are some differences beetween Gitlab and Github, but the key points are the same."
   ]
  },
  {
   "cell_type": "markdown",
   "metadata": {},
   "source": [
    "#### Install Git\n",
    "Download git from here: https://git-scm.com/downloads using POSIX emulation in windows.  \n",
    "\n",
    "\n",
    "Or for geeks, you can follow this guide for windows with Linux Subsytem:  \n",
    "https://docs.microsoft.com/en-us/windows/wsl/about\n"
   ]
  },
  {
   "cell_type": "markdown",
   "metadata": {},
   "source": [
    "#### Git the simple guide  \n",
    "http://rogerdudler.github.io/git-guide/"
   ]
  },
  {
   "cell_type": "markdown",
   "metadata": {},
   "source": [
    "#### Git Interactive Tutorial  \n",
    "https://learngitbranching.js.org/"
   ]
  },
  {
   "cell_type": "markdown",
   "metadata": {},
   "source": [
    "#### Using Github\n",
    "\n",
    "Using GitHub is absolutely suggested and recommended to familiarize yourself with these tools for this course.\n",
    "\n",
    "We recommend that you create an account on GitHub and use it for the projects and code that you will build in this lab and path.\n",
    "\n",
    "Use this tutorial to understand how to use GitHub  \n",
    "https://product.hubspot.com/blog/git-and-github-tutorial-for-beginners"
   ]
  }
 ],
 "metadata": {
  "kernelspec": {
   "display_name": "Python 3",
   "language": "python",
   "name": "python3"
  },
  "language_info": {
   "codemirror_mode": {
    "name": "ipython",
    "version": 3
   },
   "file_extension": ".py",
   "mimetype": "text/x-python",
   "name": "python",
   "nbconvert_exporter": "python",
   "pygments_lexer": "ipython3",
   "version": "3.6.8"
  },
  "varInspector": {
   "cols": {
    "lenName": 16,
    "lenType": 16,
    "lenVar": 40
   },
   "kernels_config": {
    "python": {
     "delete_cmd_postfix": "",
     "delete_cmd_prefix": "del ",
     "library": "var_list.py",
     "varRefreshCmd": "print(var_dic_list())"
    },
    "r": {
     "delete_cmd_postfix": ") ",
     "delete_cmd_prefix": "rm(",
     "library": "var_list.r",
     "varRefreshCmd": "cat(var_dic_list()) "
    }
   },
   "types_to_exclude": [
    "module",
    "function",
    "builtin_function_or_method",
    "instance",
    "_Feature"
   ],
   "window_display": false
  }
 },
 "nbformat": 4,
 "nbformat_minor": 4
}
